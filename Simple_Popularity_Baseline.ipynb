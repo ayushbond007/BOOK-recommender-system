{
  "nbformat": 4,
  "nbformat_minor": 0,
  "metadata": {
    "colab": {
      "name": "Simple_Popularity_Baseline.ipynb",
      "provenance": [],
      "include_colab_link": true
    },
    "kernelspec": {
      "name": "python3",
      "display_name": "Python 3"
    },
    "accelerator": "TPU"
  },
  "cells": [
    {
      "cell_type": "markdown",
      "metadata": {
        "id": "view-in-github",
        "colab_type": "text"
      },
      "source": [
        "<a href=\"https://colab.research.google.com/github/ayushbond007/BOOK-recommender-system/blob/main/Simple_Popularity_Baseline.ipynb\" target=\"_parent\"><img src=\"https://colab.research.google.com/assets/colab-badge.svg\" alt=\"Open In Colab\"/></a>"
      ]
    },
    {
      "cell_type": "code",
      "metadata": {
        "id": "LplXkM0Rq9eO"
      },
      "source": [
        "\n",
        "import pandas as pd\n",
        "import numpy as np\n",
        "\n",
        "# visualization\n",
        "import seaborn as sns\n",
        "import matplotlib.pyplot as plt\n",
        "%matplotlib inline\n",
        "\n",
        "# tools\n",
        "import scipy\n",
        "import math\n",
        "import random\n",
        "import sklearn\n",
        "from nltk.corpus import stopwords\n",
        "from sklearn.model_selection import train_test_split\n",
        "\n",
        "\n",
        "finalbooks = pd.read_csv('../tmp/finalbooks.csv')\n",
        "ratings = pd.read_csv('../tmp/finalratings.csv')\n",
        "train = pd.read_csv('../tmp/train.csv')\n",
        "test = pd.read_csv('../tmp/test.csv')"
      ],
      "execution_count": null,
      "outputs": []
    },
    {
      "cell_type": "code",
      "metadata": {
        "colab": {
          "base_uri": "https://localhost:8080/"
        },
        "id": "RR0hIwTln5Yu",
        "outputId": "7aa560fa-8ed5-4308-d321-56da08efa1a8"
      },
      "source": [
        "from google.colab import drive \n",
        "drive.mount(\"/content/drive\")"
      ],
      "execution_count": 2,
      "outputs": [
        {
          "output_type": "stream",
          "name": "stdout",
          "text": [
            "Mounted at /content/drive\n"
          ]
        }
      ]
    },
    {
      "cell_type": "code",
      "metadata": {
        "id": "cPC7oNoioh1t"
      },
      "source": [
        "finalbooks=pd.read_csv(\"/content/drive/MyDrive/BOOK RECOMENDATION /finalfor modelling.csv\")\n",
        "ratings= pd.read_csv(\"/content/drive/MyDrive/BOOK RECOMENDATION /new_rating.csv\")"
      ],
      "execution_count": null,
      "outputs": []
    },
    {
      "cell_type": "code",
      "metadata": {
        "id": "C8vgNMQWuM8e"
      },
      "source": [
        " train, test = train_test_split(ratings,\n",
        "                               stratify=ratings['newuser_id'], \n",
        "                               test_size=0.20,\n",
        "                               random_state=42)"
      ],
      "execution_count": null,
      "outputs": []
    },
    {
      "cell_type": "code",
      "metadata": {
        "id": "wx5w4Oj_Mqhl"
      },
      "source": [
        "test['newbookid'].value_counts()"
      ],
      "execution_count": null,
      "outputs": []
    },
    {
      "cell_type": "code",
      "metadata": {
        "id": "z__OI1gh2dcf"
      },
      "source": [
        "\n",
        "def dcg_k(r, k):  \n",
        "    r = np.asfarray(r)[:k]\n",
        "    return np.sum(2**r / np.log2(np.arange(2, r.size + 2)))      \n",
        "\n",
        "    \n",
        "def ndcg_k(r, k):\n",
        "    dcg_max = dcg_k(sorted(r, reverse=True), k)\n",
        "    if not dcg_max:\n",
        "        return 0.\n",
        "    return dcg_k(r, k) / dcg_max\n",
        "\n",
        "def mean_ndcg(rs):\n",
        "    return np.mean([ndcg_k(r, len(r)) for r in rs])"
      ],
      "execution_count": null,
      "outputs": []
    },
    {
      "cell_type": "code",
      "metadata": {
        "id": "QjLaEI-32dgU"
      },
      "source": [
        "def precision_k(r, k):\n",
        "    assert k >= 1\n",
        "    r = np.asarray(r)[:k] != 0\n",
        "    if r.size != k:\n",
        "        raise ValueError('Relevance score length < k')\n",
        "    return np.mean(r)\n",
        "\n",
        "def average_precision(r):\n",
        "\n",
        "    r = np.asarray(r) != 0\n",
        "    out = [precision_k(r, k + 1) for k in range(r.size) if r[k]]\n",
        "    if not out:\n",
        "        return 0.\n",
        "    return np.mean(out)\n",
        "\n",
        "\n",
        "def mean_average_precision(rs):\n",
        "    return np.mean([average_precision(r) for r in rs]) \n"
      ],
      "execution_count": null,
      "outputs": []
    },
    {
      "cell_type": "code",
      "metadata": {
        "id": "C7Ocg6gFe9mO"
      },
      "source": [
        "def rmse(y,h):\n",
        "    a = y-h\n",
        "    return np.sqrt(sum(a**2)/len(a))"
      ],
      "execution_count": null,
      "outputs": []
    },
    {
      "cell_type": "code",
      "metadata": {
        "id": "ELc8gRD2F6Cy"
      },
      "source": [
        "# Distribution of the # of Ratings per Book\n",
        "facet, axes = plt.subplots(1, 1, figsize=(10, 3))\n",
        "n, bins, patches = plt.hist(ratings['newbookid'].value_counts(), 200, facecolor='blue', alpha=0.5) #, log = True)   \n",
        "plt.title('Distribution of # of reviews per Book in Dataset (mean = 597 reviews / max = 22806 / min = 8 )')\n",
        "plt.show()"
      ],
      "execution_count": null,
      "outputs": []
    },
    {
      "cell_type": "code",
      "metadata": {
        "id": "TFxMdUwkJlKf"
      },
      "source": [
        "## DEFINING THE TAIL\n",
        "tailcomp = ratings.groupby(by= 'newbookid', as_index=False).agg({'rating':pd.Series.count}).sort_values(by = 'rating', ascending = False)\n",
        "tot = sum(tailcomp['rating'])\n",
        "tailcomp['popshare']= [x/tot for x in tailcomp['rating']]\n",
        "tailcomp['popshare']= tailcomp['popshare'].cumsum()\n",
        "tailcomp['category']= ['Head' if x<0.95 else \"Tail\" for x in tailcomp['popshare']]\n",
        "\n",
        "#finalbooks.loc[finalbooks.popshare >= 0.8].describe()\n",
        "tail = tailcomp.loc[tailcomp.popshare >= 0.95]\n",
        "tail"
      ],
      "execution_count": null,
      "outputs": []
    },
    {
      "cell_type": "code",
      "metadata": {
        "id": "xKARf_NFLZPx"
      },
      "source": [
        "# Distribution of the # of Ratings per Book\n",
        "facet, axes = plt.subplots(1, 1, figsize=(10, 3))\n",
        "n, bins, patches = plt.hist(ratings['newbookid'].value_counts(), 200, facecolor='blue', alpha=0.5) #, log = True)   \n",
        "plt.title('Distribution of # of reviews per Book in Dataset (mean = 597 reviews / max = 22806 / min = 8 )')\n",
        "plt.show()"
      ],
      "execution_count": null,
      "outputs": []
    },
    {
      "cell_type": "code",
      "metadata": {
        "id": "r1kp2xsr2dlw"
      },
      "source": [
        "## BASELINE APPROACH: POPULARITY MODEL\n",
        "\n",
        "popular = finalbooks.groupby('newbookid')['ratings_count','average_rating'].sum().sort_values(by = 'ratings_count',ascending=False).reset_index()\n",
        "popular.head(5)"
      ],
      "execution_count": null,
      "outputs": []
    },
    {
      "cell_type": "code",
      "metadata": {
        "id": "sIAO6-wj2d1q"
      },
      "source": [
        "poprank = test.merge(popular,on = 'newbookid')\n",
        "poprank['pred']= np.round(poprank['average_rating'])\n",
        "poprank['ratingYN']= [1 if x>= 4 else 0 for x in poprank['rating']]\n",
        "\n",
        "\n",
        "poprank = poprank.sort_values(by=['newuser_id', 'ratings_count'], ascending=False)\n",
        "poprank.head(5)"
      ],
      "execution_count": null,
      "outputs": []
    },
    {
      "cell_type": "code",
      "metadata": {
        "id": "1uIANtIs2d6B"
      },
      "source": [
        "\n",
        "poplista = []\n",
        "\n",
        "for i in range(15000):\n",
        "  a = poprank.loc[poprank.newuser_id == i+1]['rating'].tolist()\n",
        "  poplista.append(a)\n",
        "  if (i+1)%1000 == 0: print(\"done: \", i+1)\n",
        "   \n",
        "\n"
      ],
      "execution_count": null,
      "outputs": []
    },
    {
      "cell_type": "code",
      "metadata": {
        "id": "6_bkE-_1iRU8"
      },
      "source": [
        "top = poprank.sort_values('ratings_count',ascending = False).groupby('newuser_id').head(10)\n",
        "top"
      ],
      "execution_count": null,
      "outputs": []
    },
    {
      "cell_type": "code",
      "metadata": {
        "id": "vVskICnsRsGj"
      },
      "source": [
        "b = np.array([ndcg_k(r, len(r)) for r in poplista])\n",
        "\n",
        "facet, axes = plt.subplots(1, 1, figsize=(10, 3))\n",
        "n, bins, patches = plt.hist(b, 200, facecolor='blue', alpha=0.5) #, log = True)   \n",
        "plt.title('Distribution of NDGC among Users for the Popularity model')\n",
        "plt.show()\n",
        "\n",
        "# [ndcg_k(r, len(r)) for r in poplista]\n",
        "d = b[b == 1]\n",
        "sum(d)/15000"
      ],
      "execution_count": null,
      "outputs": []
    },
    {
      "cell_type": "code",
      "metadata": {
        "id": "UCdlcCpSsl5y"
      },
      "source": [
        "\n",
        "# print('Popularity Model MAP: ', mean_average_precision(poplistb))\n",
        "print('(1) Popularity Model RMSE: ', np.round(rmse(poprank['rating'],poprank['average_rating']), decimals=3))\n",
        "print('(2) Popularity Model NDCG: ', np.round(mean_ndcg(poplista), decimals=3))\n",
        "print(\"(2) Median NDCG: \", np.round(np.median(b), decimals=3))\n",
        "print(\"(2) Share of NDCG =1 among Users: \", np.round(sum(d)/15000, decimals=3))\n",
        "#print('(3) Popularity Model Div10 Score: ',np.round(sum(np.in1d(top.newbookid, tail.newbookid))/len(top), decimals=2))\n",
        "#print('(3) Popularity Model Div50 Score: ',np.round(sum(np.in1d(top.newbookid, tail.newbookid))/len(top), decimals=2))"
      ],
      "execution_count": null,
      "outputs": []
    },
    {
      "cell_type": "code",
      "metadata": {
        "id": "N3sIOkS3uzVY"
      },
      "source": [
        "popranktrain = test.merge(popular,on = 'newbookid')\n",
        "popranktrain['pred']= np.round(poprank['average_rating'])"
      ],
      "execution_count": null,
      "outputs": []
    },
    {
      "cell_type": "code",
      "metadata": {
        "id": "rextBaYUuzfH"
      },
      "source": [
        "poplisttrain = []\n",
        "for i in range(15000):\n",
        "    a = popranktrain.loc[popranktrain.newuser_id == i+1]['rating'].tolist()\n",
        "    poplisttrain.append(a)\n",
        "    if (i+1)%1000 == 0: print(\"done: \", i+1)"
      ],
      "execution_count": null,
      "outputs": []
    },
    {
      "cell_type": "code",
      "metadata": {
        "id": "KjKFitPZT5xq"
      },
      "source": [
        "print('(1) Pop Train Model RMSE: ', np.round(rmse(popranktrain['pred'],popranktrain['rating']), decimals=3))\n",
        "print('(2) Pop Train Model NDCG: ', np.round(mean_ndcg(poplisttrain), decimals=3))"
      ],
      "execution_count": null,
      "outputs": []
    }
  ]
}