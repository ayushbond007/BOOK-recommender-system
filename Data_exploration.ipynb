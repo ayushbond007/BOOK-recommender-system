{
  "nbformat": 4,
  "nbformat_minor": 0,
  "metadata": {
    "colab": {
      "name": "Data_exploration",
      "provenance": [],
      "collapsed_sections": [],
      "authorship_tag": "ABX9TyMWqXEmh3SK0pi9YJI3yLpk",
      "include_colab_link": true
    },
    "kernelspec": {
      "name": "python3",
      "display_name": "Python 3"
    },
    "language_info": {
      "name": "python"
    }
  },
  "cells": [
    {
      "cell_type": "markdown",
      "metadata": {
        "id": "view-in-github",
        "colab_type": "text"
      },
      "source": [
        "<a href=\"https://colab.research.google.com/github/ayushbond007/BOOK-recommender-system/blob/main/Data_exploration.ipynb\" target=\"_parent\"><img src=\"https://colab.research.google.com/assets/colab-badge.svg\" alt=\"Open In Colab\"/></a>"
      ]
    },
    {
      "cell_type": "code",
      "metadata": {
        "id": "AzdcvkyUyiDu",
        "colab": {
          "base_uri": "https://localhost:8080/"
        },
        "outputId": "44826e71-a8bb-46fc-d356-1c5cc6b97ced"
      },
      "source": [
        "from google.colab import drive\n",
        "drive.mount('/content/drive')"
      ],
      "execution_count": 4,
      "outputs": [
        {
          "output_type": "stream",
          "name": "stdout",
          "text": [
            "Drive already mounted at /content/drive; to attempt to forcibly remount, call drive.mount(\"/content/drive\", force_remount=True).\n"
          ]
        }
      ]
    },
    {
      "cell_type": "code",
      "metadata": {
        "id": "BCUz4yzGz7jl"
      },
      "source": [
        "import pandas as pd\n"
      ],
      "execution_count": 5,
      "outputs": []
    },
    {
      "cell_type": "code",
      "metadata": {
        "colab": {
          "base_uri": "https://localhost:8080/",
          "height": 204
        },
        "id": "FGNP39IC0Zo7",
        "outputId": "2692c1bc-d23b-41f7-a3f6-75b708e393bc"
      },
      "source": [
        "ratings= pd.read_csv(\"/content/drive/MyDrive/ratings.csv\")\n",
        "ratings.head()"
      ],
      "execution_count": 6,
      "outputs": [
        {
          "output_type": "execute_result",
          "data": {
            "text/html": [
              "<div>\n",
              "<style scoped>\n",
              "    .dataframe tbody tr th:only-of-type {\n",
              "        vertical-align: middle;\n",
              "    }\n",
              "\n",
              "    .dataframe tbody tr th {\n",
              "        vertical-align: top;\n",
              "    }\n",
              "\n",
              "    .dataframe thead th {\n",
              "        text-align: right;\n",
              "    }\n",
              "</style>\n",
              "<table border=\"1\" class=\"dataframe\">\n",
              "  <thead>\n",
              "    <tr style=\"text-align: right;\">\n",
              "      <th></th>\n",
              "      <th>user_id</th>\n",
              "      <th>book_id</th>\n",
              "      <th>rating</th>\n",
              "    </tr>\n",
              "  </thead>\n",
              "  <tbody>\n",
              "    <tr>\n",
              "      <th>0</th>\n",
              "      <td>1</td>\n",
              "      <td>258</td>\n",
              "      <td>5</td>\n",
              "    </tr>\n",
              "    <tr>\n",
              "      <th>1</th>\n",
              "      <td>2</td>\n",
              "      <td>4081</td>\n",
              "      <td>4</td>\n",
              "    </tr>\n",
              "    <tr>\n",
              "      <th>2</th>\n",
              "      <td>2</td>\n",
              "      <td>260</td>\n",
              "      <td>5</td>\n",
              "    </tr>\n",
              "    <tr>\n",
              "      <th>3</th>\n",
              "      <td>2</td>\n",
              "      <td>9296</td>\n",
              "      <td>5</td>\n",
              "    </tr>\n",
              "    <tr>\n",
              "      <th>4</th>\n",
              "      <td>2</td>\n",
              "      <td>2318</td>\n",
              "      <td>3</td>\n",
              "    </tr>\n",
              "  </tbody>\n",
              "</table>\n",
              "</div>"
            ],
            "text/plain": [
              "   user_id  book_id  rating\n",
              "0        1      258       5\n",
              "1        2     4081       4\n",
              "2        2      260       5\n",
              "3        2     9296       5\n",
              "4        2     2318       3"
            ]
          },
          "metadata": {},
          "execution_count": 6
        }
      ]
    },
    {
      "cell_type": "code",
      "metadata": {
        "id": "PvujeuIv0Zlg"
      },
      "source": [
        "x = pd.read_csv(\"/content/drive/MyDrive/books.csv\")\n",
        "y = pd.read_csv(\"/content/drive/MyDrive/book_data.csv\")"
      ],
      "execution_count": 7,
      "outputs": []
    },
    {
      "cell_type": "code",
      "metadata": {
        "id": "EhWzawIm0Zjp"
      },
      "source": [
        "x.drop([\"work_text_reviews_count\",\"work_ratings_count\",\"best_book_id\",\"work_id\",\"books_count\"],axis= \"columns\",inplace=True)"
      ],
      "execution_count": 8,
      "outputs": []
    },
    {
      "cell_type": "code",
      "metadata": {
        "id": "9eriWh-N0Zf6"
      },
      "source": [
        "y.drop([\"book_authors\",\"book_edition\",\"book_format\",\"book_isbn\",\"book_rating\",\"book_rating_count\",\"book_review_count\",\"image_url\"],axis= \"columns\",inplace=True)"
      ],
      "execution_count": 9,
      "outputs": []
    },
    {
      "cell_type": "code",
      "metadata": {
        "id": "eS4jXlm-2cgw"
      },
      "source": [
        "y.rename(columns={\"book_desc\":\"snippet\",\"book_title\":\"original_title\",\"genres\":\"genre\"},inplace=True)"
      ],
      "execution_count": 10,
      "outputs": []
    },
    {
      "cell_type": "code",
      "metadata": {
        "id": "3DfbTLEA2cd1"
      },
      "source": [
        "\n",
        "\n",
        "finalbooks=x.merge(y,on=\"original_title\")\n",
        "\n",
        "finalbooks['genre'] = finalbooks['genre'].fillna('Unknown')\n",
        "finalbooks['firstgenre']= [x.split('|')[0] for x in finalbooks['genre']]"
      ],
      "execution_count": 11,
      "outputs": []
    },
    {
      "cell_type": "code",
      "metadata": {
        "id": "qHhs7VR62cau"
      },
      "source": [
        "finalbooks['first_author']= [x.split('|')[0] for x in finalbooks['authors']]"
      ],
      "execution_count": 12,
      "outputs": []
    },
    {
      "cell_type": "code",
      "metadata": {
        "colab": {
          "base_uri": "https://localhost:8080/",
          "height": 335
        },
        "id": "wXU86GwO2cXs",
        "outputId": "11c2eaea-6c31-40a4-9ad5-f61a8972f2a4"
      },
      "source": [
        "finalbooks.head(2)"
      ],
      "execution_count": 13,
      "outputs": [
        {
          "output_type": "execute_result",
          "data": {
            "text/html": [
              "<div>\n",
              "<style scoped>\n",
              "    .dataframe tbody tr th:only-of-type {\n",
              "        vertical-align: middle;\n",
              "    }\n",
              "\n",
              "    .dataframe tbody tr th {\n",
              "        vertical-align: top;\n",
              "    }\n",
              "\n",
              "    .dataframe thead th {\n",
              "        text-align: right;\n",
              "    }\n",
              "</style>\n",
              "<table border=\"1\" class=\"dataframe\">\n",
              "  <thead>\n",
              "    <tr style=\"text-align: right;\">\n",
              "      <th></th>\n",
              "      <th>book_id</th>\n",
              "      <th>goodreads_book_id</th>\n",
              "      <th>isbn</th>\n",
              "      <th>isbn13</th>\n",
              "      <th>authors</th>\n",
              "      <th>original_publication_year</th>\n",
              "      <th>original_title</th>\n",
              "      <th>title</th>\n",
              "      <th>language_code</th>\n",
              "      <th>average_rating</th>\n",
              "      <th>ratings_count</th>\n",
              "      <th>ratings_1</th>\n",
              "      <th>ratings_2</th>\n",
              "      <th>ratings_3</th>\n",
              "      <th>ratings_4</th>\n",
              "      <th>ratings_5</th>\n",
              "      <th>image_url</th>\n",
              "      <th>small_image_url</th>\n",
              "      <th>snippet</th>\n",
              "      <th>book_pages</th>\n",
              "      <th>genre</th>\n",
              "      <th>firstgenre</th>\n",
              "      <th>first_author</th>\n",
              "    </tr>\n",
              "  </thead>\n",
              "  <tbody>\n",
              "    <tr>\n",
              "      <th>0</th>\n",
              "      <td>1</td>\n",
              "      <td>2767052</td>\n",
              "      <td>439023483</td>\n",
              "      <td>9.780439e+12</td>\n",
              "      <td>Suzanne Collins</td>\n",
              "      <td>2008.0</td>\n",
              "      <td>The Hunger Games</td>\n",
              "      <td>The Hunger Games (The Hunger Games, #1)</td>\n",
              "      <td>eng</td>\n",
              "      <td>4.34</td>\n",
              "      <td>4780653</td>\n",
              "      <td>66715</td>\n",
              "      <td>127936</td>\n",
              "      <td>560092</td>\n",
              "      <td>1481305</td>\n",
              "      <td>2706317</td>\n",
              "      <td>https://images.gr-assets.com/books/1447303603m...</td>\n",
              "      <td>https://images.gr-assets.com/books/1447303603s...</td>\n",
              "      <td>Winning will make you famous. Losing means cer...</td>\n",
              "      <td>374 pages</td>\n",
              "      <td>Young Adult|Fiction|Science Fiction|Dystopia|F...</td>\n",
              "      <td>Young Adult</td>\n",
              "      <td>Suzanne Collins</td>\n",
              "    </tr>\n",
              "    <tr>\n",
              "      <th>1</th>\n",
              "      <td>1</td>\n",
              "      <td>2767052</td>\n",
              "      <td>439023483</td>\n",
              "      <td>9.780439e+12</td>\n",
              "      <td>Suzanne Collins</td>\n",
              "      <td>2008.0</td>\n",
              "      <td>The Hunger Games</td>\n",
              "      <td>The Hunger Games (The Hunger Games, #1)</td>\n",
              "      <td>eng</td>\n",
              "      <td>4.34</td>\n",
              "      <td>4780653</td>\n",
              "      <td>66715</td>\n",
              "      <td>127936</td>\n",
              "      <td>560092</td>\n",
              "      <td>1481305</td>\n",
              "      <td>2706317</td>\n",
              "      <td>https://images.gr-assets.com/books/1447303603m...</td>\n",
              "      <td>https://images.gr-assets.com/books/1447303603s...</td>\n",
              "      <td>Winning will make you famous.Losing means cert...</td>\n",
              "      <td>454 pages</td>\n",
              "      <td>Young Adult|Fiction|Science Fiction|Dystopia|F...</td>\n",
              "      <td>Young Adult</td>\n",
              "      <td>Suzanne Collins</td>\n",
              "    </tr>\n",
              "  </tbody>\n",
              "</table>\n",
              "</div>"
            ],
            "text/plain": [
              "   book_id  goodreads_book_id  ...   firstgenre     first_author\n",
              "0        1            2767052  ...  Young Adult  Suzanne Collins\n",
              "1        1            2767052  ...  Young Adult  Suzanne Collins\n",
              "\n",
              "[2 rows x 23 columns]"
            ]
          },
          "metadata": {},
          "execution_count": 13
        }
      ]
    },
    {
      "cell_type": "code",
      "metadata": {
        "id": "GbTktiJ22cVB"
      },
      "source": [
        "ratings['book_id'].value_counts().head(45)\n",
        "out = ratings.groupby(by= 'book_id', as_index=False).agg({'rating':pd.Series.count})\n",
        "outid = out.loc[out.rating >= 7500]['book_id'].tolist()\n",
        "testbooks = finalbooks[~finalbooks[\"book_id\"].isin(outid)]\n",
        "testratings = ratings[~ratings[\"book_id\"].isin(outid)]"
      ],
      "execution_count": 14,
      "outputs": []
    },
    {
      "cell_type": "code",
      "metadata": {
        "id": "lBA46Fn02cSQ"
      },
      "source": [
        "useronly=ratings.groupby(by= 'user_id', as_index=False).agg({'rating':pd.Series.count}).sort_values('rating',ascending = False).head(15000)"
      ],
      "execution_count": 15,
      "outputs": []
    },
    {
      "cell_type": "code",
      "metadata": {
        "colab": {
          "base_uri": "https://localhost:8080/"
        },
        "id": "R99iJVPf2cPl",
        "outputId": "ffcdb515-5162-4b64-ac3d-3af03f4a7e70"
      },
      "source": [
        "finalratings = ratings[ratings.user_id.isin(useronly.user_id)]\n",
        "bookonly = finalratings.groupby(by= 'book_id', as_index=False).agg({'rating':pd.Series.count}).sort_values('rating',ascending = False).head(8000)\n",
        "finalratings = finalratings[ratings.book_id.isin(bookonly.book_id)]"
      ],
      "execution_count": 16,
      "outputs": [
        {
          "output_type": "stream",
          "name": "stderr",
          "text": [
            "/usr/local/lib/python3.7/dist-packages/ipykernel_launcher.py:3: UserWarning: Boolean Series key will be reindexed to match DataFrame index.\n",
            "  This is separate from the ipykernel package so we can avoid doing imports until\n"
          ]
        }
      ]
    },
    {
      "cell_type": "code",
      "metadata": {
        "colab": {
          "base_uri": "https://localhost:8080/",
          "height": 1000
        },
        "id": "Nj9iHP1g2cMt",
        "outputId": "06cc6d16-5cb1-4b7d-d267-cf37a979bcb0"
      },
      "source": [
        "finalbooks = finalbooks[finalbooks.book_id.isin(bookonly.book_id)]\n",
        "finalbooks = finalbooks.reset_index(drop=True)\n",
        "finalbooks[\"newbookid\"] = finalbooks.index + 1\n",
        "finalbooks"
      ],
      "execution_count": 17,
      "outputs": [
        {
          "output_type": "execute_result",
          "data": {
            "text/html": [
              "<div>\n",
              "<style scoped>\n",
              "    .dataframe tbody tr th:only-of-type {\n",
              "        vertical-align: middle;\n",
              "    }\n",
              "\n",
              "    .dataframe tbody tr th {\n",
              "        vertical-align: top;\n",
              "    }\n",
              "\n",
              "    .dataframe thead th {\n",
              "        text-align: right;\n",
              "    }\n",
              "</style>\n",
              "<table border=\"1\" class=\"dataframe\">\n",
              "  <thead>\n",
              "    <tr style=\"text-align: right;\">\n",
              "      <th></th>\n",
              "      <th>book_id</th>\n",
              "      <th>goodreads_book_id</th>\n",
              "      <th>isbn</th>\n",
              "      <th>isbn13</th>\n",
              "      <th>authors</th>\n",
              "      <th>original_publication_year</th>\n",
              "      <th>original_title</th>\n",
              "      <th>title</th>\n",
              "      <th>language_code</th>\n",
              "      <th>average_rating</th>\n",
              "      <th>ratings_count</th>\n",
              "      <th>ratings_1</th>\n",
              "      <th>ratings_2</th>\n",
              "      <th>ratings_3</th>\n",
              "      <th>ratings_4</th>\n",
              "      <th>ratings_5</th>\n",
              "      <th>image_url</th>\n",
              "      <th>small_image_url</th>\n",
              "      <th>snippet</th>\n",
              "      <th>book_pages</th>\n",
              "      <th>genre</th>\n",
              "      <th>firstgenre</th>\n",
              "      <th>first_author</th>\n",
              "      <th>newbookid</th>\n",
              "    </tr>\n",
              "  </thead>\n",
              "  <tbody>\n",
              "    <tr>\n",
              "      <th>0</th>\n",
              "      <td>1</td>\n",
              "      <td>2767052</td>\n",
              "      <td>439023483</td>\n",
              "      <td>9.780439e+12</td>\n",
              "      <td>Suzanne Collins</td>\n",
              "      <td>2008.0</td>\n",
              "      <td>The Hunger Games</td>\n",
              "      <td>The Hunger Games (The Hunger Games, #1)</td>\n",
              "      <td>eng</td>\n",
              "      <td>4.34</td>\n",
              "      <td>4780653</td>\n",
              "      <td>66715</td>\n",
              "      <td>127936</td>\n",
              "      <td>560092</td>\n",
              "      <td>1481305</td>\n",
              "      <td>2706317</td>\n",
              "      <td>https://images.gr-assets.com/books/1447303603m...</td>\n",
              "      <td>https://images.gr-assets.com/books/1447303603s...</td>\n",
              "      <td>Winning will make you famous. Losing means cer...</td>\n",
              "      <td>374 pages</td>\n",
              "      <td>Young Adult|Fiction|Science Fiction|Dystopia|F...</td>\n",
              "      <td>Young Adult</td>\n",
              "      <td>Suzanne Collins</td>\n",
              "      <td>1</td>\n",
              "    </tr>\n",
              "    <tr>\n",
              "      <th>1</th>\n",
              "      <td>1</td>\n",
              "      <td>2767052</td>\n",
              "      <td>439023483</td>\n",
              "      <td>9.780439e+12</td>\n",
              "      <td>Suzanne Collins</td>\n",
              "      <td>2008.0</td>\n",
              "      <td>The Hunger Games</td>\n",
              "      <td>The Hunger Games (The Hunger Games, #1)</td>\n",
              "      <td>eng</td>\n",
              "      <td>4.34</td>\n",
              "      <td>4780653</td>\n",
              "      <td>66715</td>\n",
              "      <td>127936</td>\n",
              "      <td>560092</td>\n",
              "      <td>1481305</td>\n",
              "      <td>2706317</td>\n",
              "      <td>https://images.gr-assets.com/books/1447303603m...</td>\n",
              "      <td>https://images.gr-assets.com/books/1447303603s...</td>\n",
              "      <td>Winning will make you famous.Losing means cert...</td>\n",
              "      <td>454 pages</td>\n",
              "      <td>Young Adult|Fiction|Science Fiction|Dystopia|F...</td>\n",
              "      <td>Young Adult</td>\n",
              "      <td>Suzanne Collins</td>\n",
              "      <td>2</td>\n",
              "    </tr>\n",
              "    <tr>\n",
              "      <th>2</th>\n",
              "      <td>1</td>\n",
              "      <td>2767052</td>\n",
              "      <td>439023483</td>\n",
              "      <td>9.780439e+12</td>\n",
              "      <td>Suzanne Collins</td>\n",
              "      <td>2008.0</td>\n",
              "      <td>The Hunger Games</td>\n",
              "      <td>The Hunger Games (The Hunger Games, #1)</td>\n",
              "      <td>eng</td>\n",
              "      <td>4.34</td>\n",
              "      <td>4780653</td>\n",
              "      <td>66715</td>\n",
              "      <td>127936</td>\n",
              "      <td>560092</td>\n",
              "      <td>1481305</td>\n",
              "      <td>2706317</td>\n",
              "      <td>https://images.gr-assets.com/books/1447303603m...</td>\n",
              "      <td>https://images.gr-assets.com/books/1447303603s...</td>\n",
              "      <td>Winning will make you famous. Losing means cer...</td>\n",
              "      <td>374 pages</td>\n",
              "      <td>Young Adult|Fiction|Science Fiction|Dystopia|F...</td>\n",
              "      <td>Young Adult</td>\n",
              "      <td>Suzanne Collins</td>\n",
              "      <td>3</td>\n",
              "    </tr>\n",
              "    <tr>\n",
              "      <th>3</th>\n",
              "      <td>1</td>\n",
              "      <td>2767052</td>\n",
              "      <td>439023483</td>\n",
              "      <td>9.780439e+12</td>\n",
              "      <td>Suzanne Collins</td>\n",
              "      <td>2008.0</td>\n",
              "      <td>The Hunger Games</td>\n",
              "      <td>The Hunger Games (The Hunger Games, #1)</td>\n",
              "      <td>eng</td>\n",
              "      <td>4.34</td>\n",
              "      <td>4780653</td>\n",
              "      <td>66715</td>\n",
              "      <td>127936</td>\n",
              "      <td>560092</td>\n",
              "      <td>1481305</td>\n",
              "      <td>2706317</td>\n",
              "      <td>https://images.gr-assets.com/books/1447303603m...</td>\n",
              "      <td>https://images.gr-assets.com/books/1447303603s...</td>\n",
              "      <td>Sometime in the future after the destruction o...</td>\n",
              "      <td>436 pages</td>\n",
              "      <td>Young Adult|Fiction|Science Fiction|Dystopia|F...</td>\n",
              "      <td>Young Adult</td>\n",
              "      <td>Suzanne Collins</td>\n",
              "      <td>4</td>\n",
              "    </tr>\n",
              "    <tr>\n",
              "      <th>4</th>\n",
              "      <td>3</td>\n",
              "      <td>41865</td>\n",
              "      <td>316015849</td>\n",
              "      <td>9.780316e+12</td>\n",
              "      <td>Stephenie Meyer</td>\n",
              "      <td>2005.0</td>\n",
              "      <td>Twilight</td>\n",
              "      <td>Twilight (Twilight, #1)</td>\n",
              "      <td>en-US</td>\n",
              "      <td>3.57</td>\n",
              "      <td>3866839</td>\n",
              "      <td>456191</td>\n",
              "      <td>436802</td>\n",
              "      <td>793319</td>\n",
              "      <td>875073</td>\n",
              "      <td>1355439</td>\n",
              "      <td>https://images.gr-assets.com/books/1361039443m...</td>\n",
              "      <td>https://images.gr-assets.com/books/1361039443s...</td>\n",
              "      <td>About three things I was absolutely positive.F...</td>\n",
              "      <td>498 pages</td>\n",
              "      <td>Young Adult|Fantasy|Romance|Paranormal|Vampire...</td>\n",
              "      <td>Young Adult</td>\n",
              "      <td>Stephenie Meyer</td>\n",
              "      <td>5</td>\n",
              "    </tr>\n",
              "    <tr>\n",
              "      <th>...</th>\n",
              "      <td>...</td>\n",
              "      <td>...</td>\n",
              "      <td>...</td>\n",
              "      <td>...</td>\n",
              "      <td>...</td>\n",
              "      <td>...</td>\n",
              "      <td>...</td>\n",
              "      <td>...</td>\n",
              "      <td>...</td>\n",
              "      <td>...</td>\n",
              "      <td>...</td>\n",
              "      <td>...</td>\n",
              "      <td>...</td>\n",
              "      <td>...</td>\n",
              "      <td>...</td>\n",
              "      <td>...</td>\n",
              "      <td>...</td>\n",
              "      <td>...</td>\n",
              "      <td>...</td>\n",
              "      <td>...</td>\n",
              "      <td>...</td>\n",
              "      <td>...</td>\n",
              "      <td>...</td>\n",
              "      <td>...</td>\n",
              "    </tr>\n",
              "    <tr>\n",
              "      <th>8440</th>\n",
              "      <td>9984</td>\n",
              "      <td>764165</td>\n",
              "      <td>140255087</td>\n",
              "      <td>9.780140e+12</td>\n",
              "      <td>Peter Matthiessen</td>\n",
              "      <td>1978.0</td>\n",
              "      <td>The Snow Leopard</td>\n",
              "      <td>The Snow Leopard</td>\n",
              "      <td>eng</td>\n",
              "      <td>4.12</td>\n",
              "      <td>8502</td>\n",
              "      <td>145</td>\n",
              "      <td>406</td>\n",
              "      <td>1586</td>\n",
              "      <td>3393</td>\n",
              "      <td>4002</td>\n",
              "      <td>https://images.gr-assets.com/books/1309211772m...</td>\n",
              "      <td>https://images.gr-assets.com/books/1309211772s...</td>\n",
              "      <td>When Matthiessen went to Nepal to study the Hi...</td>\n",
              "      <td>352 pages</td>\n",
              "      <td>Travel|Nonfiction|Environment|Nature|Autobiogr...</td>\n",
              "      <td>Travel</td>\n",
              "      <td>Peter Matthiessen</td>\n",
              "      <td>8441</td>\n",
              "    </tr>\n",
              "    <tr>\n",
              "      <th>8441</th>\n",
              "      <td>9990</td>\n",
              "      <td>294081</td>\n",
              "      <td>140143912</td>\n",
              "      <td>9.780140e+12</td>\n",
              "      <td>Oscar Hijuelos</td>\n",
              "      <td>1989.0</td>\n",
              "      <td>The Mambo Kings Play Songs of Love</td>\n",
              "      <td>The Mambo Kings Play Songs of Love</td>\n",
              "      <td>eng</td>\n",
              "      <td>3.68</td>\n",
              "      <td>9107</td>\n",
              "      <td>374</td>\n",
              "      <td>836</td>\n",
              "      <td>2692</td>\n",
              "      <td>3513</td>\n",
              "      <td>2361</td>\n",
              "      <td>https://images.gr-assets.com/books/1330072994m...</td>\n",
              "      <td>https://images.gr-assets.com/books/1330072994s...</td>\n",
              "      <td>A Pulitzer Prize winning, bestselling sensatio...</td>\n",
              "      <td>407 pages</td>\n",
              "      <td>Fiction|Music</td>\n",
              "      <td>Fiction</td>\n",
              "      <td>Oscar Hijuelos</td>\n",
              "      <td>8442</td>\n",
              "    </tr>\n",
              "    <tr>\n",
              "      <th>8442</th>\n",
              "      <td>9995</td>\n",
              "      <td>15613</td>\n",
              "      <td>1416523723</td>\n",
              "      <td>9.781417e+12</td>\n",
              "      <td>Herman Melville</td>\n",
              "      <td>1924.0</td>\n",
              "      <td>Billy Budd, Sailor</td>\n",
              "      <td>Billy Budd, Sailor</td>\n",
              "      <td>eng</td>\n",
              "      <td>3.09</td>\n",
              "      <td>10866</td>\n",
              "      <td>1478</td>\n",
              "      <td>2225</td>\n",
              "      <td>3805</td>\n",
              "      <td>2985</td>\n",
              "      <td>1617</td>\n",
              "      <td>https://s.gr-assets.com/assets/nophoto/book/11...</td>\n",
              "      <td>https://s.gr-assets.com/assets/nophoto/book/50...</td>\n",
              "      <td>A handsome young sailor is unjustly accused of...</td>\n",
              "      <td>160 pages</td>\n",
              "      <td>Classics|Fiction|Literature|Historical|Histori...</td>\n",
              "      <td>Classics</td>\n",
              "      <td>Herman Melville</td>\n",
              "      <td>8443</td>\n",
              "    </tr>\n",
              "    <tr>\n",
              "      <th>8443</th>\n",
              "      <td>9996</td>\n",
              "      <td>7130616</td>\n",
              "      <td>441019455</td>\n",
              "      <td>9.780441e+12</td>\n",
              "      <td>Ilona Andrews</td>\n",
              "      <td>2010.0</td>\n",
              "      <td>Bayou Moon</td>\n",
              "      <td>Bayou Moon (The Edge, #2)</td>\n",
              "      <td>eng</td>\n",
              "      <td>4.09</td>\n",
              "      <td>17204</td>\n",
              "      <td>105</td>\n",
              "      <td>575</td>\n",
              "      <td>3538</td>\n",
              "      <td>7860</td>\n",
              "      <td>6778</td>\n",
              "      <td>https://images.gr-assets.com/books/1307445460m...</td>\n",
              "      <td>https://images.gr-assets.com/books/1307445460s...</td>\n",
              "      <td>The Edge lies between worlds, on the border be...</td>\n",
              "      <td>447 pages</td>\n",
              "      <td>Fantasy|Urban Fantasy|Fantasy|Romance|Fantasy|...</td>\n",
              "      <td>Fantasy</td>\n",
              "      <td>Ilona Andrews</td>\n",
              "      <td>8444</td>\n",
              "    </tr>\n",
              "    <tr>\n",
              "      <th>8444</th>\n",
              "      <td>9999</td>\n",
              "      <td>8565083</td>\n",
              "      <td>61711527</td>\n",
              "      <td>9.780062e+12</td>\n",
              "      <td>Peggy Orenstein</td>\n",
              "      <td>2011.0</td>\n",
              "      <td>Cinderella Ate My Daughter: Dispatches from th...</td>\n",
              "      <td>Cinderella Ate My Daughter: Dispatches from th...</td>\n",
              "      <td>eng</td>\n",
              "      <td>3.65</td>\n",
              "      <td>11279</td>\n",
              "      <td>275</td>\n",
              "      <td>1002</td>\n",
              "      <td>3765</td>\n",
              "      <td>4577</td>\n",
              "      <td>2375</td>\n",
              "      <td>https://images.gr-assets.com/books/1279214118m...</td>\n",
              "      <td>https://images.gr-assets.com/books/1279214118s...</td>\n",
              "      <td>The acclaimed author of the groundbreaking bes...</td>\n",
              "      <td>245 pages</td>\n",
              "      <td>Nonfiction|Parenting|Feminism|Psychology|Socio...</td>\n",
              "      <td>Nonfiction</td>\n",
              "      <td>Peggy Orenstein</td>\n",
              "      <td>8445</td>\n",
              "    </tr>\n",
              "  </tbody>\n",
              "</table>\n",
              "<p>8445 rows × 24 columns</p>\n",
              "</div>"
            ],
            "text/plain": [
              "      book_id  goodreads_book_id  ...       first_author  newbookid\n",
              "0           1            2767052  ...    Suzanne Collins          1\n",
              "1           1            2767052  ...    Suzanne Collins          2\n",
              "2           1            2767052  ...    Suzanne Collins          3\n",
              "3           1            2767052  ...    Suzanne Collins          4\n",
              "4           3              41865  ...    Stephenie Meyer          5\n",
              "...       ...                ...  ...                ...        ...\n",
              "8440     9984             764165  ...  Peter Matthiessen       8441\n",
              "8441     9990             294081  ...     Oscar Hijuelos       8442\n",
              "8442     9995              15613  ...    Herman Melville       8443\n",
              "8443     9996            7130616  ...      Ilona Andrews       8444\n",
              "8444     9999            8565083  ...    Peggy Orenstein       8445\n",
              "\n",
              "[8445 rows x 24 columns]"
            ]
          },
          "metadata": {},
          "execution_count": 17
        }
      ]
    },
    {
      "cell_type": "code",
      "metadata": {
        "colab": {
          "base_uri": "https://localhost:8080/",
          "height": 419
        },
        "id": "JJ3V-0RX2cKf",
        "outputId": "fe0363f0-f45f-4a1c-b6d6-0d0d797badd4"
      },
      "source": [
        "finalratings = finalratings.merge(finalbooks[['book_id','newbookid']], how='left', on= ['book_id'])\n",
        "finalratings"
      ],
      "execution_count": 18,
      "outputs": [
        {
          "output_type": "execute_result",
          "data": {
            "text/html": [
              "<div>\n",
              "<style scoped>\n",
              "    .dataframe tbody tr th:only-of-type {\n",
              "        vertical-align: middle;\n",
              "    }\n",
              "\n",
              "    .dataframe tbody tr th {\n",
              "        vertical-align: top;\n",
              "    }\n",
              "\n",
              "    .dataframe thead th {\n",
              "        text-align: right;\n",
              "    }\n",
              "</style>\n",
              "<table border=\"1\" class=\"dataframe\">\n",
              "  <thead>\n",
              "    <tr style=\"text-align: right;\">\n",
              "      <th></th>\n",
              "      <th>user_id</th>\n",
              "      <th>book_id</th>\n",
              "      <th>rating</th>\n",
              "      <th>newbookid</th>\n",
              "    </tr>\n",
              "  </thead>\n",
              "  <tbody>\n",
              "    <tr>\n",
              "      <th>0</th>\n",
              "      <td>4</td>\n",
              "      <td>70</td>\n",
              "      <td>4</td>\n",
              "      <td>286.0</td>\n",
              "    </tr>\n",
              "    <tr>\n",
              "      <th>1</th>\n",
              "      <td>4</td>\n",
              "      <td>70</td>\n",
              "      <td>4</td>\n",
              "      <td>287.0</td>\n",
              "    </tr>\n",
              "    <tr>\n",
              "      <th>2</th>\n",
              "      <td>4</td>\n",
              "      <td>70</td>\n",
              "      <td>4</td>\n",
              "      <td>288.0</td>\n",
              "    </tr>\n",
              "    <tr>\n",
              "      <th>3</th>\n",
              "      <td>4</td>\n",
              "      <td>70</td>\n",
              "      <td>4</td>\n",
              "      <td>289.0</td>\n",
              "    </tr>\n",
              "    <tr>\n",
              "      <th>4</th>\n",
              "      <td>4</td>\n",
              "      <td>264</td>\n",
              "      <td>3</td>\n",
              "      <td>867.0</td>\n",
              "    </tr>\n",
              "    <tr>\n",
              "      <th>...</th>\n",
              "      <td>...</td>\n",
              "      <td>...</td>\n",
              "      <td>...</td>\n",
              "      <td>...</td>\n",
              "    </tr>\n",
              "    <tr>\n",
              "      <th>4500989</th>\n",
              "      <td>49925</td>\n",
              "      <td>510</td>\n",
              "      <td>5</td>\n",
              "      <td>1322.0</td>\n",
              "    </tr>\n",
              "    <tr>\n",
              "      <th>4500990</th>\n",
              "      <td>49925</td>\n",
              "      <td>528</td>\n",
              "      <td>4</td>\n",
              "      <td>NaN</td>\n",
              "    </tr>\n",
              "    <tr>\n",
              "      <th>4500991</th>\n",
              "      <td>49925</td>\n",
              "      <td>722</td>\n",
              "      <td>4</td>\n",
              "      <td>NaN</td>\n",
              "    </tr>\n",
              "    <tr>\n",
              "      <th>4500992</th>\n",
              "      <td>49925</td>\n",
              "      <td>949</td>\n",
              "      <td>5</td>\n",
              "      <td>2025.0</td>\n",
              "    </tr>\n",
              "    <tr>\n",
              "      <th>4500993</th>\n",
              "      <td>49925</td>\n",
              "      <td>1023</td>\n",
              "      <td>4</td>\n",
              "      <td>NaN</td>\n",
              "    </tr>\n",
              "  </tbody>\n",
              "</table>\n",
              "<p>4500994 rows × 4 columns</p>\n",
              "</div>"
            ],
            "text/plain": [
              "         user_id  book_id  rating  newbookid\n",
              "0              4       70       4      286.0\n",
              "1              4       70       4      287.0\n",
              "2              4       70       4      288.0\n",
              "3              4       70       4      289.0\n",
              "4              4      264       3      867.0\n",
              "...          ...      ...     ...        ...\n",
              "4500989    49925      510       5     1322.0\n",
              "4500990    49925      528       4        NaN\n",
              "4500991    49925      722       4        NaN\n",
              "4500992    49925      949       5     2025.0\n",
              "4500993    49925     1023       4        NaN\n",
              "\n",
              "[4500994 rows x 4 columns]"
            ]
          },
          "metadata": {},
          "execution_count": 18
        }
      ]
    },
    {
      "cell_type": "code",
      "metadata": {
        "colab": {
          "base_uri": "https://localhost:8080/",
          "height": 419
        },
        "id": "LFUBIXMG2cIb",
        "outputId": "4da79540-90cb-4177-b4b9-637c521f2ce2"
      },
      "source": [
        "finalratings['newuser_id'] = finalratings.groupby('user_id').grouper.group_info[0]+1\n",
        "finalratings"
      ],
      "execution_count": 19,
      "outputs": [
        {
          "output_type": "execute_result",
          "data": {
            "text/html": [
              "<div>\n",
              "<style scoped>\n",
              "    .dataframe tbody tr th:only-of-type {\n",
              "        vertical-align: middle;\n",
              "    }\n",
              "\n",
              "    .dataframe tbody tr th {\n",
              "        vertical-align: top;\n",
              "    }\n",
              "\n",
              "    .dataframe thead th {\n",
              "        text-align: right;\n",
              "    }\n",
              "</style>\n",
              "<table border=\"1\" class=\"dataframe\">\n",
              "  <thead>\n",
              "    <tr style=\"text-align: right;\">\n",
              "      <th></th>\n",
              "      <th>user_id</th>\n",
              "      <th>book_id</th>\n",
              "      <th>rating</th>\n",
              "      <th>newbookid</th>\n",
              "      <th>newuser_id</th>\n",
              "    </tr>\n",
              "  </thead>\n",
              "  <tbody>\n",
              "    <tr>\n",
              "      <th>0</th>\n",
              "      <td>4</td>\n",
              "      <td>70</td>\n",
              "      <td>4</td>\n",
              "      <td>286.0</td>\n",
              "      <td>1</td>\n",
              "    </tr>\n",
              "    <tr>\n",
              "      <th>1</th>\n",
              "      <td>4</td>\n",
              "      <td>70</td>\n",
              "      <td>4</td>\n",
              "      <td>287.0</td>\n",
              "      <td>1</td>\n",
              "    </tr>\n",
              "    <tr>\n",
              "      <th>2</th>\n",
              "      <td>4</td>\n",
              "      <td>70</td>\n",
              "      <td>4</td>\n",
              "      <td>288.0</td>\n",
              "      <td>1</td>\n",
              "    </tr>\n",
              "    <tr>\n",
              "      <th>3</th>\n",
              "      <td>4</td>\n",
              "      <td>70</td>\n",
              "      <td>4</td>\n",
              "      <td>289.0</td>\n",
              "      <td>1</td>\n",
              "    </tr>\n",
              "    <tr>\n",
              "      <th>4</th>\n",
              "      <td>4</td>\n",
              "      <td>264</td>\n",
              "      <td>3</td>\n",
              "      <td>867.0</td>\n",
              "      <td>1</td>\n",
              "    </tr>\n",
              "    <tr>\n",
              "      <th>...</th>\n",
              "      <td>...</td>\n",
              "      <td>...</td>\n",
              "      <td>...</td>\n",
              "      <td>...</td>\n",
              "      <td>...</td>\n",
              "    </tr>\n",
              "    <tr>\n",
              "      <th>4500989</th>\n",
              "      <td>49925</td>\n",
              "      <td>510</td>\n",
              "      <td>5</td>\n",
              "      <td>1322.0</td>\n",
              "      <td>14274</td>\n",
              "    </tr>\n",
              "    <tr>\n",
              "      <th>4500990</th>\n",
              "      <td>49925</td>\n",
              "      <td>528</td>\n",
              "      <td>4</td>\n",
              "      <td>NaN</td>\n",
              "      <td>14274</td>\n",
              "    </tr>\n",
              "    <tr>\n",
              "      <th>4500991</th>\n",
              "      <td>49925</td>\n",
              "      <td>722</td>\n",
              "      <td>4</td>\n",
              "      <td>NaN</td>\n",
              "      <td>14274</td>\n",
              "    </tr>\n",
              "    <tr>\n",
              "      <th>4500992</th>\n",
              "      <td>49925</td>\n",
              "      <td>949</td>\n",
              "      <td>5</td>\n",
              "      <td>2025.0</td>\n",
              "      <td>14274</td>\n",
              "    </tr>\n",
              "    <tr>\n",
              "      <th>4500993</th>\n",
              "      <td>49925</td>\n",
              "      <td>1023</td>\n",
              "      <td>4</td>\n",
              "      <td>NaN</td>\n",
              "      <td>14274</td>\n",
              "    </tr>\n",
              "  </tbody>\n",
              "</table>\n",
              "<p>4500994 rows × 5 columns</p>\n",
              "</div>"
            ],
            "text/plain": [
              "         user_id  book_id  rating  newbookid  newuser_id\n",
              "0              4       70       4      286.0           1\n",
              "1              4       70       4      287.0           1\n",
              "2              4       70       4      288.0           1\n",
              "3              4       70       4      289.0           1\n",
              "4              4      264       3      867.0           1\n",
              "...          ...      ...     ...        ...         ...\n",
              "4500989    49925      510       5     1322.0       14274\n",
              "4500990    49925      528       4        NaN       14274\n",
              "4500991    49925      722       4        NaN       14274\n",
              "4500992    49925      949       5     2025.0       14274\n",
              "4500993    49925     1023       4        NaN       14274\n",
              "\n",
              "[4500994 rows x 5 columns]"
            ]
          },
          "metadata": {},
          "execution_count": 19
        }
      ]
    },
    {
      "cell_type": "code",
      "metadata": {
        "id": "hMOFy12f2cFI"
      },
      "source": [
        "finalratings = finalratings.drop(['user_id','book_id'], axis=1)\n",
        "finalbooks = finalbooks.drop(['book_id', 'goodreads_book_id'], axis=1)"
      ],
      "execution_count": 20,
      "outputs": []
    },
    {
      "cell_type": "code",
      "metadata": {
        "id": "Yw1h8Jlz2cBi"
      },
      "source": [
        "ratings['good'] =[1 if x >= 4 else 0 for x in ratings['rating']]"
      ],
      "execution_count": 21,
      "outputs": []
    },
    {
      "cell_type": "code",
      "metadata": {
        "id": "LnC06_yd88D4"
      },
      "source": [
        "import matplotlib.pyplot as plt\n"
      ],
      "execution_count": 22,
      "outputs": []
    },
    {
      "cell_type": "code",
      "metadata": {
        "colab": {
          "base_uri": "https://localhost:8080/",
          "height": 281
        },
        "id": "muD_I5AE4qf-",
        "outputId": "85ce1503-7a0d-4f97-c409-ce33bc75f911"
      },
      "source": [
        "# Average Ratings for the books in the Data Base\n",
        "agg = finalratings.groupby(by= 'newbookid', as_index=False).agg({'rating':pd.Series.mean})\n",
        "n, bins, patches = plt.hist(agg['rating'], 20, facecolor='blue', alpha=0.5)\n",
        "plt.title('Distribution of Average Ratings per Book in Dataset')\n",
        "plt.show()\n"
      ],
      "execution_count": 23,
      "outputs": [
        {
          "output_type": "display_data",
          "data": {
            "image/png": "[encoded data removed]",
            "text/plain": [
              "<Figure size 432x288 with 1 Axes>"
            ]
          },
          "metadata": {
            "needs_background": "light"
          }
        }
      ]
    },
    {
      "cell_type": "code",
      "metadata": {
        "colab": {
          "base_uri": "https://localhost:8080/",
          "height": 281
        },
        "id": "5cWom-6b4qei",
        "outputId": "7bf8dd78-4fc9-4ec1-baff-c37142f69d25"
      },
      "source": [
        "# Distribution of the individual ratings given by our User Base\n",
        "\n",
        "n, bins, patches = plt.hist(ratings['rating'], 5, facecolor='blue', alpha=0.5)\n",
        "plt.title('Distribution of Ratings (from 1 to 5) from Users')\n",
        "plt.show()\n"
      ],
      "execution_count": 24,
      "outputs": [
        {
          "output_type": "display_data",
          "data": {
            "image/png": "[encoded data removed]",
            "text/plain": [
              "<Figure size 432x288 with 1 Axes>"
            ]
          },
          "metadata": {
            "needs_background": "light"
          }
        }
      ]
    },
    {
      "cell_type": "code",
      "metadata": {
        "id": "d3HbUluh9Nxv"
      },
      "source": [
        "import seaborn as sns"
      ],
      "execution_count": 25,
      "outputs": []
    },
    {
      "cell_type": "code",
      "metadata": {
        "colab": {
          "base_uri": "https://localhost:8080/",
          "height": 295
        },
        "id": "V9EoSmNz4qdC",
        "outputId": "074b7216-4593-44aa-9a85-1662c9f8e3d6"
      },
      "source": [
        "# Distribution of the individual ratings given by our User Base\n",
        "distr = finalratings.groupby(by= 'rating', as_index=False).agg({'newuser_id':pd.Series.count}) \n",
        "sns.barplot(x=\"rating\" , y=\"newuser_id\",  data=distr)\n",
        "plt.title('Distribution of Good Ratings (from 1 to 5) from Users')\n",
        "plt.show()"
      ],
      "execution_count": 26,
      "outputs": [
        {
          "output_type": "display_data",
          "data": {
            "image/png": "[encoded data removed]",
            "text/plain": [
              "<Figure size 432x288 with 1 Axes>"
            ]
          },
          "metadata": {
            "needs_background": "light"
          }
        }
      ]
    },
    {
      "cell_type": "code",
      "metadata": {
        "colab": {
          "base_uri": "https://localhost:8080/"
        },
        "id": "Ja_Q-T6U4qbB",
        "outputId": "041b1f55-e3b8-47fb-df12-2d11d36e48f3"
      },
      "source": [
        "# Distribution of the # of Ratings per User\n",
        "\n",
        "ratings['rating'].value_counts()\n",
        "#testratings['user_id'].max()"
      ],
      "execution_count": 27,
      "outputs": [
        {
          "output_type": "execute_result",
          "data": {
            "text/plain": [
              "4    2139018\n",
              "5    1983093\n",
              "3    1370916\n",
              "2     359257\n",
              "1     124195\n",
              "Name: rating, dtype: int64"
            ]
          },
          "metadata": {},
          "execution_count": 27
        }
      ]
    },
    {
      "cell_type": "code",
      "metadata": {
        "colab": {
          "base_uri": "https://localhost:8080/",
          "height": 281
        },
        "id": "pV-5LGge4qYO",
        "outputId": "8c7d2537-7c10-46c7-be0d-f2d2365d5430"
      },
      "source": [
        "# Distribution of the # of Ratings per User\n",
        "\n",
        "n, bins, patches = plt.hist(finalratings['newuser_id'].value_counts(), 15, facecolor='blue', alpha=0.5)\n",
        "plt.title('Distribution of # of reviews per User (mean = 140 reviews)')\n",
        "plt.show()"
      ],
      "execution_count": 28,
      "outputs": [
        {
          "output_type": "display_data",
          "data": {
            "image/png": "[encoded data removed]",
            "text/plain": [
              "<Figure size 432x288 with 1 Axes>"
            ]
          },
          "metadata": {
            "needs_background": "light"
          }
        }
      ]
    },
    {
      "cell_type": "code",
      "metadata": {
        "colab": {
          "base_uri": "https://localhost:8080/",
          "height": 498
        },
        "id": "a9M9Bbx-4qSm",
        "outputId": "5fc1b977-6ce1-465f-f451-56c251c91f91"
      },
      "source": [
        "# Distribution of the # of Ratings per Book\n",
        "facet, axes = plt.subplots(1, 1, figsize=(20, 10))\n",
        "n, bins, patches = plt.hist(testratings['book_id'].value_counts(), 1000, facecolor='blue', alpha=0.5 )   #log= True\n",
        "plt.title('Distribution of # of reviews per Book (mean = 597 reviews / std = 1267 / max = 22806 / min = 8 )')\n",
        "plt.show()"
      ],
      "execution_count": 29,
      "outputs": [
        {
          "output_type": "display_data",
          "data": {
            "image/png": "[encoded data removed]",
            "text/plain": [
              "<Figure size 1440x720 with 1 Axes>"
            ]
          },
          "metadata": {
            "needs_background": "light"
          }
        }
      ]
    },
    {
      "cell_type": "code",
      "metadata": {
        "id": "E5AZ6iic45Ph"
      },
      "source": [
        "testbooks['genre'] = testbooks['genre'].fillna('Unknown')\n",
        "testbooks['firstgenre']= [x.split('|')[0] for x in testbooks['genre']]"
      ],
      "execution_count": 30,
      "outputs": []
    },
    {
      "cell_type": "code",
      "metadata": {
        "colab": {
          "base_uri": "https://localhost:8080/",
          "height": 527
        },
        "id": "tjgwlUvu45Jv",
        "outputId": "06012389-11ad-475b-88a8-8feae84e4883"
      },
      "source": [
        "# Distribution of the # of Ratings per Book\n",
        "facet, axes = plt.subplots(2, 1, figsize=(30, 15))\n",
        "sns.despine(left=True)\n",
        "sns.barplot(x=\"firstgenre\", y=\"average_rating\",  data=testbooks,  ax=axes[0])\n",
        "plt.xticks(rotation=90)\n",
        "sns.barplot(x=\"firstgenre\", y=\"ratings_count\",  data=testbooks,  ax=axes[1])\n",
        "plt.xticks(rotation=90)\n",
        "\n",
        "plt.show()"
      ],
      "execution_count": 31,
      "outputs": [
        {
          "output_type": "display_data",
          "data": {
            "image/png": "[encoded data removed]",
            "text/plain": [
              "<Figure size 2160x1080 with 2 Axes>"
            ]
          },
          "metadata": {
            "needs_background": "light"
          }
        }
      ]
    },
    {
      "cell_type": "code",
      "metadata": {
        "id": "Xe0Xn-jb45D8"
      },
      "source": [
        "finalbooks.to_csv(\"final.csv\")"
      ],
      "execution_count": 32,
      "outputs": []
    },
    {
      "cell_type": "code",
      "metadata": {
        "id": "fzW-t-mw44-R"
      },
      "source": [
        ""
      ],
      "execution_count": null,
      "outputs": []
    },
    {
      "cell_type": "code",
      "metadata": {
        "id": "x6Q6zZcV444W"
      },
      "source": [
        ""
      ],
      "execution_count": null,
      "outputs": []
    }
  ]
}